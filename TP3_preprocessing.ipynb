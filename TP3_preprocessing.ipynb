{
  "cells": [
    {
      "cell_type": "markdown",
      "metadata": {
        "id": "view-in-github",
        "colab_type": "text"
      },
      "source": [
        "<a href=\"https://colab.research.google.com/github/essanfelix/7688581-Expert-Git-GitHub/blob/main/TP3_preprocessing.ipynb\" target=\"_parent\"><img src=\"https://colab.research.google.com/assets/colab-badge.svg\" alt=\"Open In Colab\"/></a>"
      ]
    },
    {
      "cell_type": "markdown",
      "id": "5d096bbd",
      "metadata": {
        "id": "5d096bbd"
      },
      "source": [
        "# Exercice\n",
        "\n",
        "Reprenez le dataset des diamants et créer une pipeline qui permet de trouver le meilleur modèle possible en essayant différents transformeurs et différents estimateurs.\n",
        "\n",
        "Avez vous améliorez votre R², MedAE, MAE, MSE, RMSE ?\n",
        "\n",
        "RMSE >> MedAE : Après pre processing, qu'en est il de cette différence ?"
      ]
    },
    {
      "cell_type": "markdown",
      "id": "430e5843",
      "metadata": {
        "id": "430e5843"
      },
      "source": [
        "DIAMONDS DATASET"
      ]
    },
    {
      "cell_type": "code",
      "execution_count": 1,
      "id": "39754bf0",
      "metadata": {
        "id": "39754bf0"
      },
      "outputs": [],
      "source": [
        "# Import des librairies\n",
        "\n",
        "import seaborn as sns\n",
        "import pandas as pd\n",
        "import numpy as np\n"
      ]
    },
    {
      "cell_type": "code",
      "source": [
        "from sklearn.model_selection import train_test_split, GridSearchCV\n",
        "from sklearn.pipeline import Pipeline\n",
        "from sklearn.compose import ColumnTransformer\n",
        "from sklearn.preprocessing import StandardScaler, OneHotEncoder\n",
        "from sklearn.metrics import r2_score, mean_absolute_error, mean_squared_error, median_absolute_error"
      ],
      "metadata": {
        "id": "R7_toixa5RL4"
      },
      "id": "R7_toixa5RL4",
      "execution_count": 2,
      "outputs": []
    },
    {
      "cell_type": "code",
      "source": [
        "# Estimateurs\n",
        "from sklearn.linear_model import LinearRegression, Ridge\n",
        "from sklearn.ensemble import RandomForestRegressor, GradientBoostingRegressor"
      ],
      "metadata": {
        "id": "nGCuOKmm5fT2"
      },
      "id": "nGCuOKmm5fT2",
      "execution_count": 3,
      "outputs": []
    },
    {
      "cell_type": "code",
      "source": [
        "# 1/Chargement du dataset diamonds\n",
        "\n",
        "diamonds = sns.load_dataset(\"diamonds\")\n",
        "print(diamonds.head())"
      ],
      "metadata": {
        "colab": {
          "base_uri": "https://localhost:8080/"
        },
        "id": "jMSJVQSy5jQO",
        "outputId": "0c48c740-4a49-4b16-e822-e5038d0785dc"
      },
      "id": "jMSJVQSy5jQO",
      "execution_count": 4,
      "outputs": [
        {
          "output_type": "stream",
          "name": "stdout",
          "text": [
            "   carat      cut color clarity  depth  table  price     x     y     z\n",
            "0   0.23    Ideal     E     SI2   61.5   55.0    326  3.95  3.98  2.43\n",
            "1   0.21  Premium     E     SI1   59.8   61.0    326  3.89  3.84  2.31\n",
            "2   0.23     Good     E     VS1   56.9   65.0    327  4.05  4.07  2.31\n",
            "3   0.29  Premium     I     VS2   62.4   58.0    334  4.20  4.23  2.63\n",
            "4   0.31     Good     J     SI2   63.3   58.0    335  4.34  4.35  2.75\n"
          ]
        }
      ]
    },
    {
      "cell_type": "code",
      "source": [
        "# 2/Sépararation X et y\n",
        "\n",
        "X = diamonds.drop(\"price\", axis=1)\n",
        "y = diamonds[\"price\"]"
      ],
      "metadata": {
        "id": "HceWMSvA581H"
      },
      "id": "HceWMSvA581H",
      "execution_count": 5,
      "outputs": []
    },
    {
      "cell_type": "code",
      "source": [
        "# 3/Identification colonnes numériques et catégorielles\n",
        "\n",
        "num_features = X.select_dtypes(include=[\"int64\", \"float64\"]).columns\n",
        "cat_features = X.select_dtypes(include=[\"object\", \"category\"]).columns"
      ],
      "metadata": {
        "id": "ZzA95i3l6E_d"
      },
      "id": "ZzA95i3l6E_d",
      "execution_count": 6,
      "outputs": []
    },
    {
      "cell_type": "code",
      "source": [
        "# 4/Prétraitement des données : normalisation et encodage\n",
        "\n",
        "preprocessor = ColumnTransformer([\n",
        "    (\"num\", StandardScaler(), num_features),\n",
        "    (\"cat\", OneHotEncoder(handle_unknown=\"ignore\"), cat_features)\n",
        "])"
      ],
      "metadata": {
        "id": "ay57bJEu6X5L"
      },
      "id": "ay57bJEu6X5L",
      "execution_count": 7,
      "outputs": []
    },
    {
      "cell_type": "code",
      "source": [
        "# 5/Définition des modèles\n",
        "\n",
        "models = {\n",
        "    \"LinearRegression\": LinearRegression(),\n",
        "    \"Ridge\": Ridge(),\n",
        "    \"RandomForest\": RandomForestRegressor(n_estimators=100, random_state=42),\n",
        "    \"GradientBoosting\": GradientBoostingRegressor(random_state=42)\n",
        "}"
      ],
      "metadata": {
        "id": "Pdb9IrXT7ND2"
      },
      "id": "Pdb9IrXT7ND2",
      "execution_count": 9,
      "outputs": []
    },
    {
      "cell_type": "code",
      "source": [
        "# 6/Évaluation de chaque modèle avec pipeline\n",
        "\n",
        "results = {}\n",
        "\n",
        "X_train, X_test, y_train, y_test = train_test_split(X, y, test_size=0.2, random_state=42)\n",
        "\n",
        "for name, model in models.items():\n",
        "    pipe = Pipeline([\n",
        "        (\"preprocessor\", preprocessor),\n",
        "        (\"model\", model)\n",
        "    ])\n",
        "\n",
        "    pipe.fit(X_train, y_train)\n",
        "    y_pred = pipe.predict(X_test)\n",
        "\n",
        "    r2 = r2_score(y_test, y_pred)\n",
        "    mae = mean_absolute_error(y_test, y_pred)\n",
        "    mse = mean_squared_error(y_test, y_pred)\n",
        "    rmse = np.sqrt(mse)\n",
        "    medae = median_absolute_error(y_test, y_pred)\n",
        "\n",
        "    results[name] = {\n",
        "        \"R2\": r2,\n",
        "        \"MAE\": mae,\n",
        "        \"MSE\": mse,\n",
        "        \"RMSE\": rmse,\n",
        "        \"MedAE\": medae\n",
        "    }\n",
        "\n"
      ],
      "metadata": {
        "id": "36iJmnaC7Wbq"
      },
      "id": "36iJmnaC7Wbq",
      "execution_count": 11,
      "outputs": []
    },
    {
      "cell_type": "code",
      "source": [
        "# 7/Affichage des résultats\n",
        "\n",
        "df_results = pd.DataFrame(results).T\n",
        "print(\"\\n Résultats comparatifs :\\n\")\n",
        "print(df_results)"
      ],
      "metadata": {
        "colab": {
          "base_uri": "https://localhost:8080/"
        },
        "id": "iJT71Hop8OJc",
        "outputId": "58773e3f-df0d-4231-d558-ebd850c9dd75"
      },
      "id": "iJT71Hop8OJc",
      "execution_count": 16,
      "outputs": [
        {
          "output_type": "stream",
          "name": "stdout",
          "text": [
            "\n",
            " Résultats comparatifs :\n",
            "\n",
            "                        R2         MAE           MSE         RMSE       MedAE\n",
            "LinearRegression  0.918933  737.151367  1.288705e+06  1135.211645  525.998617\n",
            "Ridge             0.918935  737.140156  1.288678e+06  1135.199400  525.648275\n",
            "RandomForest      0.980932  270.155231  3.031257e+05   550.568483   95.870000\n",
            "GradientBoosting  0.967447  398.087874  5.174831e+05   719.362950  189.748782\n"
          ]
        }
      ]
    },
    {
      "cell_type": "code",
      "source": [
        "# 8/RMSE vs MedAE\n",
        "\n",
        "print(\"\\n Remarque :\")\n",
        "print(\" - RMSE pénalise fortement les grosses erreurs.\")\n",
        "print(\" - MedAE est plus résiste aux valeurs extrêmes.\")\n",
        "print(\" Si RMSE est supérieur à MedAE, cela veut dire qu’il y a encore des prédictions avec de gros écarts.\")"
      ],
      "metadata": {
        "colab": {
          "base_uri": "https://localhost:8080/"
        },
        "id": "SPBXO-BY8m6T",
        "outputId": "3fc139bf-ecb6-4122-d3ba-abdbe154a369"
      },
      "id": "SPBXO-BY8m6T",
      "execution_count": 21,
      "outputs": [
        {
          "output_type": "stream",
          "name": "stdout",
          "text": [
            "\n",
            " Remarque :\n",
            " - RMSE pénalise fortement les grosses erreurs.\n",
            " - MedAE est plus résiste aux valeurs extrêmes.\n",
            " Si RMSE est supérieur à MedAE, cela veut dire qu’il y a encore des prédictions avec de gros écarts.\n"
          ]
        }
      ]
    }
  ],
  "metadata": {
    "language_info": {
      "name": "python"
    },
    "colab": {
      "provenance": [],
      "include_colab_link": true
    },
    "kernelspec": {
      "name": "python3",
      "display_name": "Python 3"
    }
  },
  "nbformat": 4,
  "nbformat_minor": 5
}